{
 "cells": [
  {
   "cell_type": "markdown",
   "metadata": {},
   "source": [
    "# Get sorta big data\n",
    "\n",
    "## Medicare Part B Payment Data\n",
    "\n",
    "For calendar year 2015: https://www.cms.gov/Research-Statistics-Data-and-Systems/Statistics-Trends-and-Reports/Medicare-Provider-Charge-Data/Physician-and-Other-Supplier2015.html\n",
    "\n",
    "\n",
    "NOTE: this file is >400MB zipped and 2GB unzipped\n",
    "\n",
    "This file outlines all procedures paid by Medicare Part B, aggregated by physician (NPI) and procedure (HCPCS code)\n",
    "\n",
    "* NPI: https://en.wikipedia.org/wiki/National_Provider_Identifier\n",
    "* HCPCS: https://en.wikipedia.org/wiki/Healthcare_Common_Procedure_Coding_System"
   ]
  },
  {
   "cell_type": "code",
   "execution_count": null,
   "metadata": {
    "collapsed": true
   },
   "outputs": [],
   "source": [
    "!curl http://www.cms.gov/apps/ama/license.asp?file=http://download.cms.gov/Research-Statistics-Data-and-Systems/Statistics-Trends-and-Reports/Medicare-Provider-Charge-Data/Downloads/Medicare_Provider_Util_Payment_PUF_CY2015.zip > 2015_partB.zip"
   ]
  },
  {
   "cell_type": "code",
   "execution_count": null,
   "metadata": {
    "collapsed": true
   },
   "outputs": [],
   "source": [
    "!unzip 2015_partB.zip"
   ]
  },
  {
   "cell_type": "markdown",
   "metadata": {},
   "source": [
    "First trick, use grep to reduce our huge file down to something manageable for a tutorial."
   ]
  },
  {
   "cell_type": "code",
   "execution_count": null,
   "metadata": {
    "collapsed": true
   },
   "outputs": [],
   "source": [
    "!grep -e FL -e MIAMI 2015_partB.txt > 2015_partB_miami.txt"
   ]
  },
  {
   "cell_type": "markdown",
   "metadata": {},
   "source": [
    "If you're impatient, just download it from S3"
   ]
  },
  {
   "cell_type": "code",
   "execution_count": 134,
   "metadata": {},
   "outputs": [
    {
     "name": "stdout",
     "output_type": "stream",
     "text": [
      "download: s3://rikturr/2015_partB_miami.txt to ./2015_partB_miami.txt\n"
     ]
    }
   ],
   "source": [
    "!aws s3 cp s3://rikturr/2015_partB_miami.txt 2015_partB_miami.txt"
   ]
  },
  {
   "cell_type": "code",
   "execution_count": 135,
   "metadata": {},
   "outputs": [
    {
     "data": {
      "text/html": [
       "<div>\n",
       "<style scoped>\n",
       "    .dataframe tbody tr th:only-of-type {\n",
       "        vertical-align: middle;\n",
       "    }\n",
       "\n",
       "    .dataframe tbody tr th {\n",
       "        vertical-align: top;\n",
       "    }\n",
       "\n",
       "    .dataframe thead th {\n",
       "        text-align: right;\n",
       "    }\n",
       "</style>\n",
       "<table border=\"1\" class=\"dataframe\">\n",
       "  <thead>\n",
       "    <tr style=\"text-align: right;\">\n",
       "      <th></th>\n",
       "      <th>npi</th>\n",
       "      <th>nppes_provider_last_org_name</th>\n",
       "      <th>nppes_provider_first_name</th>\n",
       "      <th>nppes_provider_mi</th>\n",
       "      <th>nppes_credentials</th>\n",
       "      <th>nppes_provider_gender</th>\n",
       "      <th>nppes_entity_code</th>\n",
       "      <th>nppes_provider_street1</th>\n",
       "      <th>nppes_provider_street2</th>\n",
       "      <th>nppes_provider_city</th>\n",
       "      <th>...</th>\n",
       "      <th>hcpcs_code</th>\n",
       "      <th>hcpcs_description</th>\n",
       "      <th>hcpcs_drug_indicator</th>\n",
       "      <th>line_srvc_cnt</th>\n",
       "      <th>bene_unique_cnt</th>\n",
       "      <th>bene_day_srvc_cnt</th>\n",
       "      <th>average_Medicare_allowed_amt</th>\n",
       "      <th>average_submitted_chrg_amt</th>\n",
       "      <th>average_Medicare_payment_amt</th>\n",
       "      <th>average_Medicare_standard_amt</th>\n",
       "    </tr>\n",
       "  </thead>\n",
       "  <tbody>\n",
       "    <tr>\n",
       "      <th>0</th>\n",
       "      <td>1003011107</td>\n",
       "      <td>STANDHART</td>\n",
       "      <td>PHILIP</td>\n",
       "      <td>L</td>\n",
       "      <td>MSPT, CSCS</td>\n",
       "      <td>M</td>\n",
       "      <td>I</td>\n",
       "      <td>3841 E TAMIAMI TRL</td>\n",
       "      <td>NaN</td>\n",
       "      <td>NAPLES</td>\n",
       "      <td>...</td>\n",
       "      <td>97001</td>\n",
       "      <td>Physical therapy evaluation</td>\n",
       "      <td>N</td>\n",
       "      <td>217.0</td>\n",
       "      <td>199</td>\n",
       "      <td>217</td>\n",
       "      <td>77.583318</td>\n",
       "      <td>165.0</td>\n",
       "      <td>57.633272</td>\n",
       "      <td>56.304700</td>\n",
       "    </tr>\n",
       "    <tr>\n",
       "      <th>1</th>\n",
       "      <td>1003011107</td>\n",
       "      <td>STANDHART</td>\n",
       "      <td>PHILIP</td>\n",
       "      <td>L</td>\n",
       "      <td>MSPT, CSCS</td>\n",
       "      <td>M</td>\n",
       "      <td>I</td>\n",
       "      <td>3841 E TAMIAMI TRL</td>\n",
       "      <td>NaN</td>\n",
       "      <td>NAPLES</td>\n",
       "      <td>...</td>\n",
       "      <td>97035</td>\n",
       "      <td>Application of ultrasound to 1 or more areas, ...</td>\n",
       "      <td>N</td>\n",
       "      <td>205.0</td>\n",
       "      <td>33</td>\n",
       "      <td>205</td>\n",
       "      <td>10.721707</td>\n",
       "      <td>29.0</td>\n",
       "      <td>8.284585</td>\n",
       "      <td>8.050439</td>\n",
       "    </tr>\n",
       "    <tr>\n",
       "      <th>2</th>\n",
       "      <td>1003011107</td>\n",
       "      <td>STANDHART</td>\n",
       "      <td>PHILIP</td>\n",
       "      <td>L</td>\n",
       "      <td>MSPT, CSCS</td>\n",
       "      <td>M</td>\n",
       "      <td>I</td>\n",
       "      <td>3841 E TAMIAMI TRL</td>\n",
       "      <td>NaN</td>\n",
       "      <td>NAPLES</td>\n",
       "      <td>...</td>\n",
       "      <td>97110</td>\n",
       "      <td>Therapeutic exercise to develop strength, endu...</td>\n",
       "      <td>N</td>\n",
       "      <td>4643.0</td>\n",
       "      <td>217</td>\n",
       "      <td>2442</td>\n",
       "      <td>28.992406</td>\n",
       "      <td>63.0</td>\n",
       "      <td>22.384523</td>\n",
       "      <td>19.457097</td>\n",
       "    </tr>\n",
       "    <tr>\n",
       "      <th>3</th>\n",
       "      <td>1003011107</td>\n",
       "      <td>STANDHART</td>\n",
       "      <td>PHILIP</td>\n",
       "      <td>L</td>\n",
       "      <td>MSPT, CSCS</td>\n",
       "      <td>M</td>\n",
       "      <td>I</td>\n",
       "      <td>3841 E TAMIAMI TRL</td>\n",
       "      <td>NaN</td>\n",
       "      <td>NAPLES</td>\n",
       "      <td>...</td>\n",
       "      <td>97112</td>\n",
       "      <td>Therapeutic procedure to re-educate brain-to-n...</td>\n",
       "      <td>N</td>\n",
       "      <td>164.0</td>\n",
       "      <td>16</td>\n",
       "      <td>164</td>\n",
       "      <td>34.376646</td>\n",
       "      <td>45.0</td>\n",
       "      <td>26.949390</td>\n",
       "      <td>26.438780</td>\n",
       "    </tr>\n",
       "    <tr>\n",
       "      <th>4</th>\n",
       "      <td>1003011107</td>\n",
       "      <td>STANDHART</td>\n",
       "      <td>PHILIP</td>\n",
       "      <td>L</td>\n",
       "      <td>MSPT, CSCS</td>\n",
       "      <td>M</td>\n",
       "      <td>I</td>\n",
       "      <td>3841 E TAMIAMI TRL</td>\n",
       "      <td>NaN</td>\n",
       "      <td>NAPLES</td>\n",
       "      <td>...</td>\n",
       "      <td>97140</td>\n",
       "      <td>Manual (physical) therapy techniques to 1 or m...</td>\n",
       "      <td>N</td>\n",
       "      <td>2030.0</td>\n",
       "      <td>199</td>\n",
       "      <td>2029</td>\n",
       "      <td>23.383468</td>\n",
       "      <td>60.0</td>\n",
       "      <td>18.179355</td>\n",
       "      <td>19.014739</td>\n",
       "    </tr>\n",
       "  </tbody>\n",
       "</table>\n",
       "<p>5 rows × 26 columns</p>\n",
       "</div>"
      ],
      "text/plain": [
       "          npi nppes_provider_last_org_name nppes_provider_first_name  \\\n",
       "0  1003011107                    STANDHART                    PHILIP   \n",
       "1  1003011107                    STANDHART                    PHILIP   \n",
       "2  1003011107                    STANDHART                    PHILIP   \n",
       "3  1003011107                    STANDHART                    PHILIP   \n",
       "4  1003011107                    STANDHART                    PHILIP   \n",
       "\n",
       "  nppes_provider_mi nppes_credentials nppes_provider_gender nppes_entity_code  \\\n",
       "0                 L        MSPT, CSCS                     M                 I   \n",
       "1                 L        MSPT, CSCS                     M                 I   \n",
       "2                 L        MSPT, CSCS                     M                 I   \n",
       "3                 L        MSPT, CSCS                     M                 I   \n",
       "4                 L        MSPT, CSCS                     M                 I   \n",
       "\n",
       "  nppes_provider_street1 nppes_provider_street2 nppes_provider_city  \\\n",
       "0     3841 E TAMIAMI TRL                    NaN              NAPLES   \n",
       "1     3841 E TAMIAMI TRL                    NaN              NAPLES   \n",
       "2     3841 E TAMIAMI TRL                    NaN              NAPLES   \n",
       "3     3841 E TAMIAMI TRL                    NaN              NAPLES   \n",
       "4     3841 E TAMIAMI TRL                    NaN              NAPLES   \n",
       "\n",
       "               ...                hcpcs_code  \\\n",
       "0              ...                     97001   \n",
       "1              ...                     97035   \n",
       "2              ...                     97110   \n",
       "3              ...                     97112   \n",
       "4              ...                     97140   \n",
       "\n",
       "                                   hcpcs_description hcpcs_drug_indicator  \\\n",
       "0                        Physical therapy evaluation                    N   \n",
       "1  Application of ultrasound to 1 or more areas, ...                    N   \n",
       "2  Therapeutic exercise to develop strength, endu...                    N   \n",
       "3  Therapeutic procedure to re-educate brain-to-n...                    N   \n",
       "4  Manual (physical) therapy techniques to 1 or m...                    N   \n",
       "\n",
       "  line_srvc_cnt bene_unique_cnt bene_day_srvc_cnt  \\\n",
       "0         217.0             199               217   \n",
       "1         205.0              33               205   \n",
       "2        4643.0             217              2442   \n",
       "3         164.0              16               164   \n",
       "4        2030.0             199              2029   \n",
       "\n",
       "  average_Medicare_allowed_amt average_submitted_chrg_amt  \\\n",
       "0                    77.583318                      165.0   \n",
       "1                    10.721707                       29.0   \n",
       "2                    28.992406                       63.0   \n",
       "3                    34.376646                       45.0   \n",
       "4                    23.383468                       60.0   \n",
       "\n",
       "  average_Medicare_payment_amt  average_Medicare_standard_amt  \n",
       "0                    57.633272                      56.304700  \n",
       "1                     8.284585                       8.050439  \n",
       "2                    22.384523                      19.457097  \n",
       "3                    26.949390                      26.438780  \n",
       "4                    18.179355                      19.014739  \n",
       "\n",
       "[5 rows x 26 columns]"
      ]
     },
     "execution_count": 135,
     "metadata": {},
     "output_type": "execute_result"
    }
   ],
   "source": [
    "import pandas as pd\n",
    "import numpy as np\n",
    "\n",
    "df = pd.read_csv('2015_partB_miami.txt', sep='\\t')\n",
    "df.head()"
   ]
  },
  {
   "cell_type": "markdown",
   "metadata": {},
   "source": [
    "# File formats are key"
   ]
  },
  {
   "cell_type": "code",
   "execution_count": 136,
   "metadata": {},
   "outputs": [
    {
     "name": "stdout",
     "output_type": "stream",
     "text": [
      "-rw-r--r--  1 aaron.richter  staff    11M Jan 20  2018 2015_partB_miami.txt\r\n"
     ]
    }
   ],
   "source": [
    "!ls -alh 2015_partB_miami.txt"
   ]
  },
  {
   "cell_type": "code",
   "execution_count": 140,
   "metadata": {
    "collapsed": true
   },
   "outputs": [],
   "source": [
    "df = pd.read_csv('2015_partB_miami.txt', sep='\\t')\n",
    "df.to_parquet('2015_partB_miami.parquet')"
   ]
  },
  {
   "cell_type": "code",
   "execution_count": 141,
   "metadata": {},
   "outputs": [
    {
     "name": "stdout",
     "output_type": "stream",
     "text": [
      "-rw-r--r--  1 aaron.richter  staff   2.7M Jan  8 18:44 2015_partB_miami.parquet\r\n"
     ]
    }
   ],
   "source": [
    "!ls -alh 2015_partB_miami.parquet"
   ]
  },
  {
   "cell_type": "markdown",
   "metadata": {},
   "source": [
    "# Use your cores"
   ]
  },
  {
   "cell_type": "code",
   "execution_count": 53,
   "metadata": {},
   "outputs": [
    {
     "data": {
      "text/plain": [
       "52396"
      ]
     },
     "execution_count": 53,
     "metadata": {},
     "output_type": "execute_result"
    }
   ],
   "source": [
    "indexes = list(df.index)\n",
    "len(indexes)"
   ]
  },
  {
   "cell_type": "markdown",
   "metadata": {},
   "source": [
    "Oh no! A for loop 😱"
   ]
  },
  {
   "cell_type": "code",
   "execution_count": 77,
   "metadata": {
    "collapsed": true
   },
   "outputs": [],
   "source": [
    "def super_complex_function(x):\n",
    "    return len(df.loc[x]['hcpcs_code'])"
   ]
  },
  {
   "cell_type": "code",
   "execution_count": 88,
   "metadata": {},
   "outputs": [
    {
     "name": "stdout",
     "output_type": "stream",
     "text": [
      "CPU times: user 8.24 s, sys: 137 ms, total: 8.38 s\n",
      "Wall time: 8.3 s\n"
     ]
    }
   ],
   "source": [
    "%%time\n",
    "out = []\n",
    "for i in indexes:\n",
    "    out.append(super_complex_function(i))"
   ]
  },
  {
   "cell_type": "markdown",
   "metadata": {},
   "source": [
    "Let's try using multiple threads"
   ]
  },
  {
   "cell_type": "code",
   "execution_count": 91,
   "metadata": {
    "collapsed": true
   },
   "outputs": [],
   "source": [
    "import multiprocessing as mp\n",
    "\n",
    "num_chunks = 10\n",
    "num_threads = 4"
   ]
  },
  {
   "cell_type": "code",
   "execution_count": 92,
   "metadata": {},
   "outputs": [
    {
     "name": "stdout",
     "output_type": "stream",
     "text": [
      "CPU times: user 28.4 ms, sys: 50.5 ms, total: 78.9 ms\n",
      "Wall time: 2.21 s\n"
     ]
    }
   ],
   "source": [
    "%%time\n",
    "pool = mp.Pool(num_threads)\n",
    "fast_out = pool.map(super_complex_function, indexes)"
   ]
  },
  {
   "cell_type": "code",
   "execution_count": 93,
   "metadata": {},
   "outputs": [
    {
     "data": {
      "text/plain": [
       "True"
      ]
     },
     "execution_count": 93,
     "metadata": {},
     "output_type": "execute_result"
    }
   ],
   "source": [
    "set(out) == set(fast_out)"
   ]
  },
  {
   "cell_type": "markdown",
   "metadata": {},
   "source": [
    "# Sparse matrices"
   ]
  },
  {
   "cell_type": "code",
   "execution_count": 122,
   "metadata": {},
   "outputs": [
    {
     "data": {
      "text/plain": [
       "array([[  1.00301111e+09,   0.00000000e+00,   0.00000000e+00, ...,\n",
       "          0.00000000e+00,   0.00000000e+00,   0.00000000e+00],\n",
       "       [  1.00301711e+09,   0.00000000e+00,   0.00000000e+00, ...,\n",
       "          0.00000000e+00,   0.00000000e+00,   0.00000000e+00],\n",
       "       [  1.00302358e+09,   0.00000000e+00,   0.00000000e+00, ...,\n",
       "          0.00000000e+00,   0.00000000e+00,   0.00000000e+00],\n",
       "       ..., \n",
       "       [  1.99297706e+09,   0.00000000e+00,   0.00000000e+00, ...,\n",
       "          0.00000000e+00,   0.00000000e+00,   0.00000000e+00],\n",
       "       [  1.99299449e+09,   0.00000000e+00,   0.00000000e+00, ...,\n",
       "          0.00000000e+00,   0.00000000e+00,   0.00000000e+00],\n",
       "       [  1.99299752e+09,   0.00000000e+00,   0.00000000e+00, ...,\n",
       "          0.00000000e+00,   0.00000000e+00,   0.00000000e+00]])"
      ]
     },
     "execution_count": 122,
     "metadata": {},
     "output_type": "execute_result"
    }
   ],
   "source": [
    "one_hot = (df\n",
    "           .pivot_table(index=['npi'], columns='hcpcs_code', values='line_srvc_cnt')\n",
    "           .reset_index()\n",
    "           .fillna(0)\n",
    "           .values)\n",
    "one_hot"
   ]
  },
  {
   "cell_type": "code",
   "execution_count": 123,
   "metadata": {},
   "outputs": [
    {
     "data": {
      "text/plain": [
       "((5740, 2185), 12541900)"
      ]
     },
     "execution_count": 123,
     "metadata": {},
     "output_type": "execute_result"
    }
   ],
   "source": [
    "one_hot.shape, one_hot.shape[0] * one_hot.shape[1]"
   ]
  },
  {
   "cell_type": "code",
   "execution_count": 124,
   "metadata": {},
   "outputs": [
    {
     "data": {
      "text/plain": [
       "56550"
      ]
     },
     "execution_count": 124,
     "metadata": {},
     "output_type": "execute_result"
    }
   ],
   "source": [
    "np.count_nonzero(one_hot)"
   ]
  },
  {
   "cell_type": "code",
   "execution_count": 126,
   "metadata": {},
   "outputs": [
    {
     "data": {
      "text/plain": [
       "<5740x2185 sparse matrix of type '<class 'numpy.float64'>'\n",
       "\twith 56550 stored elements in Compressed Sparse Column format>"
      ]
     },
     "execution_count": 126,
     "metadata": {},
     "output_type": "execute_result"
    }
   ],
   "source": [
    "import scipy.sparse as sp\n",
    "\n",
    "one_hot_sparse = sp.csc_matrix(one_hot)\n",
    "one_hot_sparse"
   ]
  },
  {
   "cell_type": "code",
   "execution_count": 130,
   "metadata": {},
   "outputs": [],
   "source": [
    "np.save('dense.npy', one_hot)\n",
    "sp.save_npz('sparse.npz', one_hot_sparse)"
   ]
  },
  {
   "cell_type": "code",
   "execution_count": 132,
   "metadata": {},
   "outputs": [
    {
     "name": "stdout",
     "output_type": "stream",
     "text": [
      "-rw-r--r--  1 aaron.richter  staff    96M Jan  8 18:36 dense.npy\r\n"
     ]
    }
   ],
   "source": [
    "!ls -alh dense.npy"
   ]
  },
  {
   "cell_type": "code",
   "execution_count": 133,
   "metadata": {},
   "outputs": [
    {
     "name": "stdout",
     "output_type": "stream",
     "text": [
      "-rw-r--r--  1 aaron.richter  staff   186K Jan  8 18:36 sparse.npz\r\n"
     ]
    }
   ],
   "source": [
    "!ls -alh sparse.npz"
   ]
  }
 ],
 "metadata": {
  "kernelspec": {
   "display_name": "Python 3",
   "language": "python",
   "name": "python3"
  },
  "language_info": {
   "codemirror_mode": {
    "name": "ipython",
    "version": 3
   },
   "file_extension": ".py",
   "mimetype": "text/x-python",
   "name": "python",
   "nbconvert_exporter": "python",
   "pygments_lexer": "ipython3",
   "version": "3.6.3"
  }
 },
 "nbformat": 4,
 "nbformat_minor": 2
}
